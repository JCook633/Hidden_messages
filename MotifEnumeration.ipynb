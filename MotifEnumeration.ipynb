{
 "cells": [
  {
   "cell_type": "code",
   "execution_count": 44,
   "id": "0f64d47a-d84d-44b7-a273-33423db50b4f",
   "metadata": {},
   "outputs": [],
   "source": [
    "def MotifEnumeration(Dna, k, d):\n",
    "    Patterns = []\n",
    "    n = len(Dna[0])\n",
    "    for i in range(n-k+1):\n",
    "        neighbors = Neighbors(Dna[0][i:i+k], d)\n",
    "        for j in neighbors:\n",
    "            count = 0\n",
    "            for l in Dna:\n",
    "                for s in range(n-k+1):\n",
    "                    if HamDist(l[s:s+k], j) <= d:\n",
    "                        count += 1\n",
    "                        break\n",
    "            if count == len(Dna):\n",
    "                Patterns.append(j)\n",
    "    \n",
    "    return list(dict.fromkeys(Patterns))"
   ]
  },
  {
   "cell_type": "code",
   "execution_count": 6,
   "id": "cc02d936-e1a4-447d-8e77-50aa3cdafbde",
   "metadata": {},
   "outputs": [],
   "source": [
    "def HamDist(p, q):\n",
    "    n = len(p)\n",
    "    dist = 0\n",
    "    for i in range(n):\n",
    "        if p[i] != q[i]:\n",
    "            dist += 1\n",
    "    return dist\n",
    "\n",
    "def suffix(pattern):\n",
    "    n = len(pattern)\n",
    "    new = pattern[1:n+1]\n",
    "    return new\n",
    "\n",
    "def Neighbors(Pattern, d):\n",
    "        if d == 0:\n",
    "            return Pattern\n",
    "        if len(Pattern) == 1: \n",
    "            return [\"A\", \"C\", \"G\", \"T\"]\n",
    "        nucleotides = [\"A\", \"C\", \"G\", \"T\"]\n",
    "        Neighborhood = []\n",
    "        SuffixNeighbors = Neighbors(suffix(Pattern), d)\n",
    "        for Text in SuffixNeighbors:\n",
    "            if HamDist(suffix(Pattern), Text) < d:\n",
    "                for x in nucleotides:\n",
    "                    Neighborhood.append(x + Text)\n",
    "            else:\n",
    "                Neighborhood.append(Pattern[0] + Text)\n",
    "        return Neighborhood"
   ]
  },
  {
   "cell_type": "code",
   "execution_count": 7,
   "id": "c5a54385-9403-4d82-88a0-aee794507c3e",
   "metadata": {},
   "outputs": [
    {
     "name": "stdout",
     "output_type": "stream",
     "text": [
      "['ATTTGAA', 'ATTTGCA', 'ATTTAGA', 'ATTTCGA', 'ATTAGGA', 'ATTCGGA', 'ATTGGGA', 'ATATGGA', 'ATCTGGA', 'ATGTGGA', 'AATTGGA', 'ACTTGGA', 'AGTTGGA', 'ATTTGGA', 'CTTTGGA', 'GTTTGGA', 'TTTTGGA', 'ATTTTGA', 'ATTTGTA', 'ATTTAAC', 'ATTTCAC', 'ATTAGAC', 'ATTCGAC', 'ATTGGAC', 'ATATGAC', 'ATCTGAC', 'ATGTGAC', 'AATTGAC', 'ACTTGAC', 'AGTTGAC', 'ATTTGAC', 'CTTTGAC', 'GTTTGAC', 'TTTTGAC', 'ATTTTAC', 'ATTTACC', 'ATTTCCC', 'ATTAGCC', 'ATTCGCC', 'ATTGGCC', 'ATATGCC', 'ATCTGCC', 'ATGTGCC', 'AATTGCC', 'ACTTGCC', 'AGTTGCC', 'ATTTGCC', 'CTTTGCC', 'GTTTGCC', 'TTTTGCC', 'ATTTTCC', 'ATTAAGC', 'ATTCAGC', 'ATTGAGC', 'ATATAGC', 'ATCTAGC', 'ATGTAGC', 'AATTAGC', 'ACTTAGC', 'AGTTAGC', 'ATTTAGC', 'CTTTAGC', 'GTTTAGC', 'TTTTAGC', 'ATTACGC', 'ATTCCGC', 'ATTGCGC', 'ATATCGC', 'ATCTCGC', 'ATGTCGC', 'AATTCGC', 'ACTTCGC', 'AGTTCGC', 'ATTTCGC', 'CTTTCGC', 'GTTTCGC', 'TTTTCGC', 'ATAAGGC', 'ATCAGGC', 'ATGAGGC', 'AATAGGC', 'ACTAGGC', 'AGTAGGC', 'ATTAGGC', 'CTTAGGC', 'GTTAGGC', 'TTTAGGC', 'ATACGGC', 'ATCCGGC', 'ATGCGGC', 'AATCGGC', 'ACTCGGC', 'AGTCGGC', 'ATTCGGC', 'CTTCGGC', 'GTTCGGC', 'TTTCGGC', 'ATAGGGC', 'ATCGGGC', 'ATGGGGC', 'AATGGGC', 'ACTGGGC', 'AGTGGGC', 'ATTGGGC', 'CTTGGGC', 'GTTGGGC', 'TTTGGGC', 'AAATGGC', 'ACATGGC', 'AGATGGC', 'ATATGGC', 'CTATGGC', 'GTATGGC', 'TTATGGC', 'AACTGGC', 'ACCTGGC', 'AGCTGGC', 'ATCTGGC', 'CTCTGGC', 'GTCTGGC', 'TTCTGGC', 'AAGTGGC', 'ACGTGGC', 'AGGTGGC', 'ATGTGGC', 'CTGTGGC', 'GTGTGGC', 'TTGTGGC', 'AATTGGC', 'CATTGGC', 'GATTGGC', 'TATTGGC', 'ACTTGGC', 'CCTTGGC', 'GCTTGGC', 'TCTTGGC', 'AGTTGGC', 'CGTTGGC', 'GGTTGGC', 'TGTTGGC', 'ATTTGGC', 'CTTTGGC', 'GTTTGGC', 'TTTTGGC', 'ATTATGC', 'ATTCTGC', 'ATTGTGC', 'ATATTGC', 'ATCTTGC', 'ATGTTGC', 'AATTTGC', 'ACTTTGC', 'AGTTTGC', 'ATTTTGC', 'CTTTTGC', 'GTTTTGC', 'TTTTTGC', 'ATTTATC', 'ATTTCTC', 'ATTAGTC', 'ATTCGTC', 'ATTGGTC', 'ATATGTC', 'ATCTGTC', 'ATGTGTC', 'AATTGTC', 'ACTTGTC', 'AGTTGTC', 'ATTTGTC', 'CTTTGTC', 'GTTTGTC', 'TTTTGTC', 'ATTTTTC', 'ATTTGAG', 'ATTTGCG', 'ATTTAGG', 'ATTTCGG', 'ATTAGGG', 'ATTCGGG', 'ATTGGGG', 'ATATGGG', 'ATCTGGG', 'ATGTGGG', 'AATTGGG', 'ACTTGGG', 'AGTTGGG', 'ATTTGGG', 'CTTTGGG', 'GTTTGGG', 'TTTTGGG', 'ATTTTGG', 'ATTTGTG', 'ATTTGAT', 'ATTTGCT', 'ATTTAGT', 'ATTTCGT', 'ATTAGGT', 'ATTCGGT', 'ATTGGGT', 'ATATGGT', 'ATCTGGT', 'ATGTGGT', 'AATTGGT', 'ACTTGGT', 'AGTTGGT', 'ATTTGGT', 'CTTTGGT', 'GTTTGGT', 'TTTTGGT', 'ATTTTGT', 'ATTTGTT']\n"
     ]
    }
   ],
   "source": [
    "P = \"ATTTGGC\"\n",
    "print(Neighbors(P, 2))"
   ]
  },
  {
   "cell_type": "code",
   "execution_count": 52,
   "id": "6b25e531-1756-442d-811a-196a2633bbf4",
   "metadata": {},
   "outputs": [],
   "source": [
    "k = 3\n",
    "d = 1\n",
    "text = [\"ATTTGGC\", \"TGCCTTA\", \"CGGTATC\", \"GAAAATT\"]"
   ]
  },
  {
   "cell_type": "code",
   "execution_count": 45,
   "id": "ea0d3757-ff47-40b2-888c-3103ddb3d151",
   "metadata": {},
   "outputs": [
    {
     "name": "stdout",
     "output_type": "stream",
     "text": [
      "['ATA', 'ATT', 'GTT', 'TTT']\n"
     ]
    }
   ],
   "source": [
    "print(MotifEnumeration(text, k, d))"
   ]
  },
  {
   "cell_type": "code",
   "execution_count": 77,
   "id": "f0aec5aa-2511-4181-a53c-024f96ec16d1",
   "metadata": {},
   "outputs": [
    {
     "name": "stdout",
     "output_type": "stream",
     "text": [
      "['5', '1', 'AAGTTTCTAAAGCTTGGTTGCATTC', 'AGGGAAGGTGCGCGTGGTTTACAAG', 'GCGACGGTTGGCATCTGTGTATACA', 'GGTTCACGTTCATCTCGTAGAATCA', 'GTAGTCACGATTGGCCACCGGGTTA', 'CACCGTCTCAGGTTTGGGGGGTGGA', '']\n",
      "9\n"
     ]
    }
   ],
   "source": [
    "inputfile =\"dataset_156_8.txt\"\n",
    "f = open(inputfile, \"r\")\n",
    "#seq_lines = f.readlines()[1:]\n",
    "file = f.read()\n",
    "seq_list = file.replace('\\n', ' ').split(\" \")\n",
    "\n",
    "\n",
    "print(seq_list)\n",
    "print(len(seq_list))\n"
   ]
  },
  {
   "cell_type": "code",
   "execution_count": 78,
   "id": "e4d34ec9-2b20-4ac7-9fe5-2e44dcab249b",
   "metadata": {},
   "outputs": [
    {
     "name": "stdout",
     "output_type": "stream",
     "text": [
      "['AAGTTTCTAAAGCTTGGTTGCATTC', 'AGGGAAGGTGCGCGTGGTTTACAAG', 'GCGACGGTTGGCATCTGTGTATACA', 'GGTTCACGTTCATCTCGTAGAATCA', 'GTAGTCACGATTGGCCACCGGGTTA', 'CACCGTCTCAGGTTTGGGGGGTGGA']\n"
     ]
    }
   ],
   "source": [
    "seq = seq_list[2:8]\n",
    "print(seq)"
   ]
  },
  {
   "cell_type": "code",
   "execution_count": 79,
   "id": "c5ee85f5-d298-4edb-a2e5-809400822aa7",
   "metadata": {},
   "outputs": [
    {
     "name": "stdout",
     "output_type": "stream",
     "text": [
      "AGGTT CGTTT GGTTT GTTTA GGTTC GGTTG GGTTA\n"
     ]
    }
   ],
   "source": [
    "K = 5\n",
    "D = 1\n",
    "data = MotifEnumeration(seq, K, D)\n",
    "print(*data, sep = \" \")"
   ]
  },
  {
   "cell_type": "code",
   "execution_count": null,
   "id": "c67a677d-5eda-4f2c-a484-23305beef1dc",
   "metadata": {},
   "outputs": [],
   "source": []
  }
 ],
 "metadata": {
  "kernelspec": {
   "display_name": "Python 3 (ipykernel)",
   "language": "python",
   "name": "python3"
  },
  "language_info": {
   "codemirror_mode": {
    "name": "ipython",
    "version": 3
   },
   "file_extension": ".py",
   "mimetype": "text/x-python",
   "name": "python",
   "nbconvert_exporter": "python",
   "pygments_lexer": "ipython3",
   "version": "3.9.7"
  }
 },
 "nbformat": 4,
 "nbformat_minor": 5
}
