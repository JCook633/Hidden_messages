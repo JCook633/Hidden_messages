{
 "cells": [
  {
   "cell_type": "code",
   "execution_count": 1,
   "id": "e6d7ea9d-8d20-46e9-a6ec-f7991a6ea902",
   "metadata": {},
   "outputs": [],
   "source": [
    "def HamDist(p, q):\n",
    "    n = len(p)\n",
    "    dist = 0\n",
    "    for i in range(n):\n",
    "        if p[i] != q[i]:\n",
    "            dist += 1\n",
    "    return dist"
   ]
  },
  {
   "cell_type": "code",
   "execution_count": 2,
   "id": "237dde9d-e67a-4a7b-9bf1-8994cba26171",
   "metadata": {},
   "outputs": [],
   "source": [
    "def suffix(pattern):\n",
    "    n = len(pattern)\n",
    "    new = pattern[1:n+1]\n",
    "    return new"
   ]
  },
  {
   "cell_type": "code",
   "execution_count": 3,
   "id": "a8c03d3e-83bf-497f-8cb3-89971908002b",
   "metadata": {},
   "outputs": [],
   "source": [
    "def Neighbors(Pattern, d):\n",
    "        if d == 0:\n",
    "            return Pattern\n",
    "        if len(Pattern) == 1: \n",
    "            return [\"A\", \"C\", \"G\", \"T\"]\n",
    "        nucleotides = [\"A\", \"C\", \"G\", \"T\"]\n",
    "        Neighborhood = []\n",
    "        SuffixNeighbors = Neighbors(suffix(Pattern), d)\n",
    "        for Text in SuffixNeighbors:\n",
    "            if HamDist(suffix(Pattern), Text) < d:\n",
    "                for x in nucleotides:\n",
    "                    Neighborhood.append(x + Text)\n",
    "            else:\n",
    "                Neighborhood.append(Pattern[0] + Text)\n",
    "        return Neighborhood"
   ]
  },
  {
   "cell_type": "code",
   "execution_count": 4,
   "id": "6e748ba5-bde2-460b-a021-b838858240a0",
   "metadata": {},
   "outputs": [],
   "source": [
    "def MaxMap(map):\n",
    "    m = -100\n",
    "    for i in map:\n",
    "        if map[i] > m:\n",
    "            m = map[i]\n",
    "    return m"
   ]
  },
  {
   "cell_type": "code",
   "execution_count": 5,
   "id": "a1a51548-6554-4c6c-afe1-7e87293624ed",
   "metadata": {},
   "outputs": [],
   "source": [
    "def Reverse(Text):\n",
    "    rev = \"\"\n",
    "    comp = \"\"\n",
    "    for i in Text:\n",
    "        rev = i + rev\n",
    "    for i in rev:\n",
    "        if i == \"A\":\n",
    "            comp += \"T\"\n",
    "        if i == \"T\":\n",
    "            comp += \"A\"\n",
    "        if i == \"G\":\n",
    "            comp += \"C\"\n",
    "        if i == \"C\":\n",
    "            comp += \"G\"\n",
    "    return comp"
   ]
  },
  {
   "cell_type": "code",
   "execution_count": 6,
   "id": "60e7fe58-76f0-43c4-b5c6-40cb7af9b2c0",
   "metadata": {},
   "outputs": [],
   "source": [
    "def FrequentWordsWithMismatchesAndRevComp(Text, k, d):\n",
    "    \n",
    "    Patterns = []\n",
    "    freqMap = {}\n",
    "    n = len(Text)\n",
    "    for i in range(n - k +1):\n",
    "        Pattern = Text[i:i+k]\n",
    "        Pattern_rev = Reverse(Pattern)\n",
    "        neighborhood = Neighbors(Pattern, d) + Neighbors(Pattern_rev, d)\n",
    "        for j in range(len(neighborhood)):\n",
    "            neighbor = neighborhood[j]\n",
    "            if neighbor in freqMap: \n",
    "                freqMap[neighbor] += 1\n",
    "            else:\n",
    "                freqMap[neighbor] = 1\n",
    "    m = MaxMap(freqMap)\n",
    "    for Pattern in freqMap:\n",
    "        if freqMap[Pattern] == m:\n",
    "            Patterns.append(Pattern)\n",
    "    return Patterns"
   ]
  },
  {
   "cell_type": "code",
   "execution_count": 8,
   "id": "4b340e89-b7d8-4c46-a73c-87a7b279804f",
   "metadata": {},
   "outputs": [
    {
     "name": "stdout",
     "output_type": "stream",
     "text": [
      "GCGGTACGTTTCGGCGCAATTGGCATTGGCAGTCGAGAATACGACACGTTTTGCGGCGCGATTGAGAAAATAGAAGCGGAACTGAAAGGCGCTGGCGCAAAACAGGTTGGGGAAACACTGAAGATCAACATCCTTGAACATGAGATTCCGGAAGATCCAGCGGAGATTTGGCTCGGATCCTGGATTAATTTACTCAAATAAGTGTAAAGATCGTGCGATCTATTGTGGATAAATATGGTGAAAAGCTTGGATCAACCGGTAGTTATCCAAAGAATAACCTTTGTTCACTTTTTGAGTTGTGTATAAGTACCCGTTTTGATCCCAGCTTATACGGGCCACGATCACCGATCATTCACAGCTAGTGATCCTTTCCAACGCATTGATCTTTATTACAGGATCCGGGTTATCCACAGCCTGGTGCGATCCTAATAAGAGATCACAATAGAACAGATCTCTAAATAAAAAGATCTTCTTTTTAATAGCCCGGATCCCGGGGCTTT\n"
     ]
    }
   ],
   "source": [
    "inputfile =\"putative_ori_1.txt\"\n",
    "f = open(inputfile, \"r\")\n",
    "seq = f.read()\n",
    "print(seq)"
   ]
  },
  {
   "cell_type": "code",
   "execution_count": 17,
   "id": "2efdb2d3-d454-4314-bcff-75329220517d",
   "metadata": {},
   "outputs": [],
   "source": [
    "k = 9\n",
    "d = 2"
   ]
  },
  {
   "cell_type": "code",
   "execution_count": 18,
   "id": "73419287-144e-46b8-bc42-2a339fb2f904",
   "metadata": {},
   "outputs": [
    {
     "name": "stdout",
     "output_type": "stream",
     "text": [
      "['GATCCAGGC', 'GCCTGGATC']\n"
     ]
    }
   ],
   "source": [
    "print(FrequentWordsWithMismatchesAndRevComp(seq, k, d))"
   ]
  },
  {
   "cell_type": "code",
   "execution_count": null,
   "id": "69bb8cab-6982-495f-b9b6-540f9678f628",
   "metadata": {},
   "outputs": [],
   "source": []
  }
 ],
 "metadata": {
  "kernelspec": {
   "display_name": "Python 3 (ipykernel)",
   "language": "python",
   "name": "python3"
  },
  "language_info": {
   "codemirror_mode": {
    "name": "ipython",
    "version": 3
   },
   "file_extension": ".py",
   "mimetype": "text/x-python",
   "name": "python",
   "nbconvert_exporter": "python",
   "pygments_lexer": "ipython3",
   "version": "3.9.7"
  }
 },
 "nbformat": 4,
 "nbformat_minor": 5
}
