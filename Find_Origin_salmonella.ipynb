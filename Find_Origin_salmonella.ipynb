{
 "cells": [
  {
   "cell_type": "code",
   "execution_count": 1,
   "id": "b586f847-9570-4a2c-83b2-746580cce326",
   "metadata": {},
   "outputs": [],
   "source": [
    "inputfile =\"Salmonella_genome.txt\"\n",
    "f = open(inputfile, \"r\")\n",
    "seq = f.read()"
   ]
  },
  {
   "cell_type": "code",
   "execution_count": 2,
   "id": "9c628aea-ab8e-4001-8127-bec735d3715e",
   "metadata": {},
   "outputs": [
    {
     "name": "stdout",
     "output_type": "stream",
     "text": [
      "AGAGATTACGTCTGGTTGCAAGAGATCATAACAGGGGAAATTGATTGAAAATAAATATATCGCCAGCAGC\n",
      "ACATGAACAAGTTTCGGAATGTGATCAAT\n"
     ]
    }
   ],
   "source": [
    "print(seq[0:100])"
   ]
  },
  {
   "cell_type": "code",
   "execution_count": 3,
   "id": "9c647d34-0a0e-4e6c-a5fc-2098f96707b2",
   "metadata": {},
   "outputs": [],
   "source": [
    "seq = seq.replace(\"\\n\", \"\")\n",
    "seq = seq.replace(\"\\r\", \"\")"
   ]
  },
  {
   "cell_type": "code",
   "execution_count": 4,
   "id": "63386a83-f441-4646-b563-4ca848f4181f",
   "metadata": {},
   "outputs": [
    {
     "name": "stdout",
     "output_type": "stream",
     "text": [
      "AGAGATTACGTCTGGTTGCAAGAGATCATAACAGGGGAAATTGATTGAAAATAAATATATCGCCAGCAGCACATGAACAAGTTTCGGAATGTGATCAATT\n"
     ]
    }
   ],
   "source": [
    "print(seq[0:100])"
   ]
  },
  {
   "cell_type": "code",
   "execution_count": 5,
   "id": "b658a08a-558a-4af0-a375-763d1f8537b0",
   "metadata": {},
   "outputs": [],
   "source": [
    "def Skew(genome):\n",
    "    n = len(genome)\n",
    "    skew = {}\n",
    "    skew[0] = 0\n",
    "    for i in range(n):\n",
    "        if genome[i] == \"A\" or genome[i] == \"T\":\n",
    "            skew[i+1] = skew[i]\n",
    "        elif genome[i] == \"C\":\n",
    "            skew[i+1] = skew[i] - 1\n",
    "        elif genome[i] == \"G\":\n",
    "            skew[i+1] = skew[i] + 1\n",
    "    \n",
    "    return list(skew.values())"
   ]
  },
  {
   "cell_type": "code",
   "execution_count": 6,
   "id": "c3629987-2538-4d52-99eb-8ecfa4982a00",
   "metadata": {},
   "outputs": [],
   "source": [
    "def SkewMin(genome):\n",
    "    pos = []\n",
    "    s = Skew(genome)\n",
    "    m = min(s)\n",
    "    for i in range(len(s)):\n",
    "        if s[i] == m:\n",
    "            pos.append(i)\n",
    "    return pos"
   ]
  },
  {
   "cell_type": "code",
   "execution_count": 7,
   "id": "f2aea9d9-8598-4c11-b245-1dfe1697a095",
   "metadata": {},
   "outputs": [
    {
     "name": "stdout",
     "output_type": "stream",
     "text": [
      "[3764856, 3764858]\n"
     ]
    }
   ],
   "source": [
    "print(SkewMin(seq))"
   ]
  },
  {
   "cell_type": "code",
   "execution_count": 8,
   "id": "664170ee-95b7-4ab8-9d25-6f61b2bf38be",
   "metadata": {},
   "outputs": [
    {
     "name": "stdout",
     "output_type": "stream",
     "text": [
      "GCGGTACGTTTCGGCGCAATTGGCATTGGCAGTCGAGAATACGACACGTTTTGCGGCGCGATTGAGAAAATAGAAGCGGAACTGAAAGGCGCTGGCGCAAAACAGGTTGGGGAAACACTGAAGATCAACATCCTTGAACATGAGATTCCGGAAGATCCAGCGGAGATTTGGCTCGGATCCTGGATTAATTTACTCAAATAAGTGTAAAGATCGTGCGATCTATTGTGGATAAATATGGTGAAAAGCTTGGATCAACCGGTAGTTATCCAAAGAATAACCTTTGTTCACTTTTTGAGTTGTGTATAAGTACCCGTTTTGATCCCAGCTTATACGGGCCACGATCACCGATCATTCACAGCTAGTGATCCTTTCCAACGCATTGATCTTTATTACAGGATCCGGGTTATCCACAGCCTGGTGCGATCCTAATAAGAGATCACAATAGAACAGATCTCTAAATAAAAAGATCTTCTTTTTAATAGCCCGGATCCCGGGGCTTT\n"
     ]
    }
   ],
   "source": [
    "putative_ori = seq[3764856:(3764856+500)]\n",
    "print(putative_ori)"
   ]
  },
  {
   "cell_type": "code",
   "execution_count": 9,
   "id": "31a116ec-cf93-4882-be29-f8f5af181a4c",
   "metadata": {},
   "outputs": [
    {
     "data": {
      "text/plain": [
       "500"
      ]
     },
     "execution_count": 9,
     "metadata": {},
     "output_type": "execute_result"
    }
   ],
   "source": [
    "output_file = open(\"putative_ori_1.txt\", \"w\")\n",
    "output_file.write(putative_ori)"
   ]
  },
  {
   "cell_type": "code",
   "execution_count": null,
   "id": "26abfcd3-2f1d-4de4-9474-83ab28d4f1df",
   "metadata": {},
   "outputs": [],
   "source": []
  }
 ],
 "metadata": {
  "kernelspec": {
   "display_name": "Python 3 (ipykernel)",
   "language": "python",
   "name": "python3"
  },
  "language_info": {
   "codemirror_mode": {
    "name": "ipython",
    "version": 3
   },
   "file_extension": ".py",
   "mimetype": "text/x-python",
   "name": "python",
   "nbconvert_exporter": "python",
   "pygments_lexer": "ipython3",
   "version": "3.9.7"
  }
 },
 "nbformat": 4,
 "nbformat_minor": 5
}
